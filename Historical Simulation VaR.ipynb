{
 "cells": [
  {
   "cell_type": "code",
   "execution_count": 1,
   "id": "67bdb67d-32a7-4a03-bfef-92fdb67f6dd2",
   "metadata": {},
   "outputs": [],
   "source": [
    "import pandas as pd\n",
    "import numpy as np\n",
    "from pandas_datareader import DataReader\n",
    "import matplotlib.pyplot as plt\n",
    "import seaborn as sns\n",
    "import matplotlib.mlab as mlab\n",
    "from scipy.stats import norm\n",
    "from tabulate import tabulate"
   ]
  },
  {
   "cell_type": "code",
   "execution_count": 2,
   "id": "7becec60-845d-4e42-b23b-bc9bcc4ff2b6",
   "metadata": {},
   "outputs": [
    {
     "name": "stdout",
     "output_type": "stream",
     "text": [
      "Symbols           TSLA         XOM         JNJ          PG        ABBV  \\\n",
      "Date                                                                     \n",
      "2022-11-14  190.949997  113.370003  170.807510  140.979996  151.740005   \n",
      "2022-11-15  194.419998  114.129997  171.284439  140.490005  153.039993   \n",
      "2022-11-16  186.919998  112.910004  172.347580  141.740005  151.869995   \n",
      "2022-11-17  183.169998  113.059998  173.738602  140.869995  152.160004   \n",
      "2022-11-18  180.190002  112.080002  175.069992  142.570007  154.979996   \n",
      "\n",
      "Symbols            ALB       AMZN          BA         UNH         DEO  \n",
      "Date                                                                   \n",
      "2022-11-14  316.350006  98.489998  173.550003  513.750000  173.110001  \n",
      "2022-11-15  295.859985  98.940002  175.350006  503.010010  173.660004  \n",
      "2022-11-16  286.769989  97.120003  172.690002  511.519989  175.520004  \n",
      "2022-11-17  277.450012  94.849998  172.779999  515.309998  175.539993  \n",
      "2022-11-18  276.980011  94.139999  173.889999  530.000000  177.630005  \n"
     ]
    }
   ],
   "source": [
    "tickers = ['TSLA', 'XOM', 'JNJ', 'PG', 'ABBV', 'ALB', 'AMZN', 'BA', 'UNH', 'DEO']\n",
    "prices_df = DataReader(tickers, 'yahoo', '2017-01-01', '2022-11-20')['Adj Close']\n",
    "print(prices_df.tail())"
   ]
  },
  {
   "cell_type": "code",
   "execution_count": 3,
   "id": "4242785b-09c6-4d53-8928-2764edd17eb3",
   "metadata": {},
   "outputs": [
    {
     "name": "stdout",
     "output_type": "stream",
     "text": [
      "Symbols         TSLA       XOM       JNJ        PG      ABBV       ALB  \\\n",
      "Date                                                                     \n",
      "2022-11-14 -0.025616  0.002919  0.015716  0.000071  0.010522 -0.027752   \n",
      "2022-11-15  0.018172  0.006704  0.002792 -0.003476  0.008567 -0.064770   \n",
      "2022-11-16 -0.038576 -0.010690  0.006207  0.008897 -0.007645 -0.030724   \n",
      "2022-11-17 -0.020062  0.001328  0.008071 -0.006138  0.001910 -0.032500   \n",
      "2022-11-18 -0.016269 -0.008668  0.007663  0.012068  0.018533 -0.001694   \n",
      "\n",
      "Symbols         AMZN        BA       UNH       DEO  \n",
      "Date                                                \n",
      "2022-11-14 -0.022820 -0.022198 -0.015955 -0.004600  \n",
      "2022-11-15  0.004569  0.010372 -0.020905  0.003177  \n",
      "2022-11-16 -0.018395 -0.015170  0.016918  0.010711  \n",
      "2022-11-17 -0.023373  0.000521  0.007409  0.000114  \n",
      "2022-11-18 -0.007485  0.006424  0.028507  0.011906  \n"
     ]
    }
   ],
   "source": [
    "returns_df = prices_df.pct_change()[1:]\n",
    "print(returns_df.tail())"
   ]
  },
  {
   "cell_type": "code",
   "execution_count": 4,
   "id": "fb36d4c8-c72c-44f8-af18-e8eae3c0cb60",
   "metadata": {},
   "outputs": [
    {
     "name": "stdout",
     "output_type": "stream",
     "text": [
      "1.0\n"
     ]
    }
   ],
   "source": [
    "stocks_weights = [0.10, 0.05, 0.10, 0.30, 0.05, 0.10, 0.10, 0.05, 0.10, 0.05]\n",
    "print(sum(stocks_weights))"
   ]
  },
  {
   "cell_type": "code",
   "execution_count": 5,
   "id": "13c42030-7dcd-4c21-9e45-0945fa7cc2fc",
   "metadata": {},
   "outputs": [
    {
     "name": "stdout",
     "output_type": "stream",
     "text": [
      "Symbols         TSLA       XOM       JNJ        PG      ABBV       ALB  \\\n",
      "Date                                                                     \n",
      "2022-11-14 -0.002562  0.000146  0.001572  0.000021  0.000526 -0.002775   \n",
      "2022-11-15  0.001817  0.000335  0.000279 -0.001043  0.000428 -0.006477   \n",
      "2022-11-16 -0.003858 -0.000534  0.000621  0.002669 -0.000382 -0.003072   \n",
      "2022-11-17 -0.002006  0.000066  0.000807 -0.001841  0.000095 -0.003250   \n",
      "2022-11-18 -0.001627 -0.000433  0.000766  0.003620  0.000927 -0.000169   \n",
      "\n",
      "Symbols         AMZN        BA       UNH       DEO  \n",
      "Date                                                \n",
      "2022-11-14 -0.002282 -0.001110 -0.001596 -0.000230  \n",
      "2022-11-15  0.000457  0.000519 -0.002091  0.000159  \n",
      "2022-11-16 -0.001839 -0.000758  0.001692  0.000536  \n",
      "2022-11-17 -0.002337  0.000026  0.000741  0.000006  \n",
      "2022-11-18 -0.000749  0.000321  0.002851  0.000595  \n"
     ]
    }
   ],
   "source": [
    "weighted_returns = returns_df * stocks_weights\n",
    "print(weighted_returns.tail())"
   ]
  },
  {
   "cell_type": "code",
   "execution_count": 6,
   "id": "043743a5-aad8-41b7-b630-71a11e17c0af",
   "metadata": {},
   "outputs": [
    {
     "name": "stdout",
     "output_type": "stream",
     "text": [
      "Date\n",
      "2022-11-14   -0.008289\n",
      "2022-11-15   -0.005616\n",
      "2022-11-16   -0.004927\n",
      "2022-11-17   -0.007693\n",
      "2022-11-18    0.006102\n",
      "dtype: float64\n"
     ]
    }
   ],
   "source": [
    "portfolio_returns = weighted_returns.sum(axis=1)\n",
    "print(portfolio_returns.tail())"
   ]
  },
  {
   "cell_type": "code",
   "execution_count": 7,
   "id": "1a20f984-91c3-4935-b813-64cb7e27a679",
   "metadata": {},
   "outputs": [],
   "source": [
    "losses = - portfolio_returns"
   ]
  },
  {
   "cell_type": "code",
   "execution_count": 8,
   "id": "f6524dab-1a61-4c0c-8a51-288cb5f82ee3",
   "metadata": {},
   "outputs": [
    {
     "name": "stdout",
     "output_type": "stream",
     "text": [
      "0.017197229048835295\n"
     ]
    }
   ],
   "source": [
    "VaR_95 = np.quantile(losses, 0.95)\n",
    "print(VaR_95)"
   ]
  },
  {
   "cell_type": "markdown",
   "id": "d18962da-b6a4-46fa-a7b5-3b2ce0f6c9c8",
   "metadata": {},
   "source": [
    "# Historical VaR"
   ]
  },
  {
   "cell_type": "code",
   "execution_count": 9,
   "id": "117ded6a-e9ca-41dc-b1c7-c71171feaea1",
   "metadata": {},
   "outputs": [],
   "source": [
    "portfolio_returns.sort_values(inplace=True, ascending=True)"
   ]
  },
  {
   "cell_type": "code",
   "execution_count": 10,
   "id": "1468b1e3-983e-481d-9ecf-63a9307d917c",
   "metadata": {},
   "outputs": [
    {
     "name": "stdout",
     "output_type": "stream",
     "text": [
      "Confidence Level      Value at Risk\n",
      "------------------  ---------------\n",
      "90%                      -0.0111722\n",
      "95%                      -0.0171972\n",
      "99%                      -0.0374105\n"
     ]
    }
   ],
   "source": [
    "VaR_90 =  portfolio_returns.quantile(0.1)\n",
    "VaR_95 =  portfolio_returns.quantile(0.05)\n",
    "VaR_99 =  portfolio_returns.quantile(0.01)\n",
    "print(tabulate([['90%', VaR_90], ['95%', VaR_95], ['99%', VaR_99]], headers = ['Confidence Level', 'Value at Risk']))"
   ]
  },
  {
   "cell_type": "markdown",
   "id": "e3c4c39f-efb2-40a4-95e3-0fb039d9a61b",
   "metadata": {},
   "source": [
    "# CVaR"
   ]
  },
  {
   "cell_type": "code",
   "execution_count": 11,
   "id": "445c1a5b-e679-4706-bdc2-2842a679e29a",
   "metadata": {},
   "outputs": [],
   "source": [
    "mean = np.mean(portfolio_returns)\n",
    "std = np.std(portfolio_returns)"
   ]
  },
  {
   "cell_type": "code",
   "execution_count": 12,
   "id": "aaeb719b-380e-4f80-8e72-b5e32e463d32",
   "metadata": {},
   "outputs": [
    {
     "name": "stdout",
     "output_type": "stream",
     "text": [
      "Confidence Level      Conditional Value at Risk\n",
      "------------------  ---------------------------\n",
      "90%                                  -0.0383703\n",
      "95%                                  -0.0508905\n",
      "99%                                  -0.0936086\n"
     ]
    }
   ],
   "source": [
    "tail_loss_90 = norm.expect(lambda x: x, loc = mean, scale = std, lb = VaR_90)\n",
    "CVaR_90 = - (1 / (1 - 0.90)) * tail_loss_90\n",
    "\n",
    "tail_loss_95 = norm.expect(lambda x: x, loc = mean, scale = std, lb = VaR_95)\n",
    "CVaR_95 = - (1 / (1 - 0.95)) * tail_loss_95\n",
    "\n",
    "tail_loss_99 = norm.expect(lambda x: x, loc = mean, scale = std, lb = VaR_99)\n",
    "CVaR_99 = - (1 / (1 - 0.99)) * tail_loss_99\n",
    "\n",
    "print(tabulate([['90%', CVaR_90], ['95%', CVaR_95], ['99%', CVaR_99]], headers=['Confidence Level', 'Conditional Value at Risk']))"
   ]
  },
  {
   "cell_type": "code",
   "execution_count": 13,
   "id": "e2b4e5b3-7f05-47de-838b-23603a7347d0",
   "metadata": {},
   "outputs": [],
   "source": [
    "sorted_rets = sorted(portfolio_returns)"
   ]
  },
  {
   "cell_type": "code",
   "execution_count": 14,
   "id": "d67a9830-5e45-4a25-ae3b-b517531213f0",
   "metadata": {},
   "outputs": [
    {
     "data": {
      "image/png": "[encoded data removed]",
      "text/plain": [
       "<Figure size 432x288 with 1 Axes>"
      ]
     },
     "metadata": {
      "needs_background": "light"
     },
     "output_type": "display_data"
    }
   ],
   "source": [
    "plt.hist(sorted_rets, density=True, stacked=True)\n",
    "plt.xlabel('Return')\n",
    "plt.ylabel('Probability')\n",
    "plt.title('Historical Distribution of Portfolio Return')\n",
    "plt.axvline(x=VaR_95, color='r', linestyle='-', label='VaR 95: {0:.2f}%'.format(VaR_95))\n",
    "plt.axvline(x=CVaR_95, color='b', linestyle='-', label='CVaR 95: {0:.2f}%'.format(CVaR_95))\n",
    "plt.show()"
   ]
  }
 ],
 "metadata": {
  "kernelspec": {
   "display_name": "Python 3 (ipykernel)",
   "language": "python",
   "name": "python3"
  },
  "language_info": {
   "codemirror_mode": {
    "name": "ipython",
    "version": 3
   },
   "file_extension": ".py",
   "mimetype": "text/x-python",
   "name": "python",
   "nbconvert_exporter": "python",
   "pygments_lexer": "ipython3",
   "version": "3.9.12"
  }
 },
 "nbformat": 4,
 "nbformat_minor": 5
}
