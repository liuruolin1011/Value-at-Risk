{
 "cells": [
  {
   "cell_type": "code",
   "execution_count": 1,
   "id": "5896a497-85ef-48ec-a88d-4dcb13c5401c",
   "metadata": {},
   "outputs": [],
   "source": [
    "import pandas as pd\n",
    "import numpy as np\n",
    "from pandas_datareader import DataReader\n",
    "import matplotlib.pyplot as plt\n",
    "import seaborn as sns\n",
    "import matplotlib.mlab as mlab\n",
    "from scipy.stats import norm\n",
    "from tabulate import tabulate"
   ]
  },
  {
   "cell_type": "code",
   "execution_count": 2,
   "id": "831321b8-7fd2-4594-a9af-afde81ba45a2",
   "metadata": {},
   "outputs": [
    {
     "name": "stdout",
     "output_type": "stream",
     "text": [
      "Symbols           TSLA         XOM         JNJ          PG        ABBV  \\\n",
      "Date                                                                     \n",
      "2022-11-14  190.949997  113.370003  170.807510  140.979996  151.740005   \n",
      "2022-11-15  194.419998  114.129997  171.284439  140.490005  153.039993   \n",
      "2022-11-16  186.919998  112.910004  172.347580  141.740005  151.869995   \n",
      "2022-11-17  183.169998  113.059998  173.738602  140.869995  152.160004   \n",
      "2022-11-18  180.190002  112.080002  175.069992  142.570007  154.979996   \n",
      "\n",
      "Symbols            ALB       AMZN          BA         UNH         DEO  \n",
      "Date                                                                   \n",
      "2022-11-14  316.350006  98.489998  173.550003  513.750000  173.110001  \n",
      "2022-11-15  295.859985  98.940002  175.350006  503.010010  173.660004  \n",
      "2022-11-16  286.769989  97.120003  172.690002  511.519989  175.520004  \n",
      "2022-11-17  277.450012  94.849998  172.779999  515.309998  175.539993  \n",
      "2022-11-18  276.980011  94.139999  173.889999  530.000000  177.630005  \n"
     ]
    }
   ],
   "source": [
    "tickers = ['TSLA', 'XOM', 'JNJ', 'PG', 'ABBV', 'ALB', 'AMZN', 'BA', 'UNH', 'DEO']\n",
    "prices_df = DataReader(tickers, 'yahoo', '2017-01-01', '2022-11-20')['Adj Close']\n",
    "print(prices_df.tail())"
   ]
  },
  {
   "cell_type": "code",
   "execution_count": 3,
   "id": "a8f77ce8-cad2-400d-b101-2bd87df13230",
   "metadata": {},
   "outputs": [
    {
     "data": {
      "text/plain": [
       "1.0"
      ]
     },
     "execution_count": 3,
     "metadata": {},
     "output_type": "execute_result"
    }
   ],
   "source": [
    "stocks_weights = [0.10, 0.05, 0.10, 0.30, 0.05, 0.10, 0.10, 0.05, 0.10, 0.05]\n",
    "sum(stocks_weights)"
   ]
  },
  {
   "cell_type": "code",
   "execution_count": 4,
   "id": "5b36b341-4980-4f10-8f1a-446670bba0fe",
   "metadata": {},
   "outputs": [
    {
     "name": "stdout",
     "output_type": "stream",
     "text": [
      "Symbols         TSLA       XOM       JNJ        PG      ABBV       ALB  \\\n",
      "Date                                                                     \n",
      "2022-11-14 -0.025616  0.002919  0.015716  0.000071  0.010522 -0.027752   \n",
      "2022-11-15  0.018172  0.006704  0.002792 -0.003476  0.008567 -0.064770   \n",
      "2022-11-16 -0.038576 -0.010690  0.006207  0.008897 -0.007645 -0.030724   \n",
      "2022-11-17 -0.020062  0.001328  0.008071 -0.006138  0.001910 -0.032500   \n",
      "2022-11-18 -0.016269 -0.008668  0.007663  0.012068  0.018533 -0.001694   \n",
      "\n",
      "Symbols         AMZN        BA       UNH       DEO  \n",
      "Date                                                \n",
      "2022-11-14 -0.022820 -0.022198 -0.015955 -0.004600  \n",
      "2022-11-15  0.004569  0.010372 -0.020905  0.003177  \n",
      "2022-11-16 -0.018395 -0.015170  0.016918  0.010711  \n",
      "2022-11-17 -0.023373  0.000521  0.007409  0.000114  \n",
      "2022-11-18 -0.007485  0.006424  0.028507  0.011906  \n"
     ]
    }
   ],
   "source": [
    "returns_df = prices_df.pct_change().dropna()\n",
    "print(returns_df.tail())"
   ]
  },
  {
   "cell_type": "code",
   "execution_count": 5,
   "id": "07757297-406a-49f4-9d70-82dd47a875f4",
   "metadata": {},
   "outputs": [
    {
     "name": "stdout",
     "output_type": "stream",
     "text": [
      "Symbols         TSLA       XOM       JNJ        PG      ABBV       ALB  \\\n",
      "Date                                                                     \n",
      "2022-11-14 -0.002562  0.000146  0.001572  0.000021  0.000526 -0.002775   \n",
      "2022-11-15  0.001817  0.000335  0.000279 -0.001043  0.000428 -0.006477   \n",
      "2022-11-16 -0.003858 -0.000534  0.000621  0.002669 -0.000382 -0.003072   \n",
      "2022-11-17 -0.002006  0.000066  0.000807 -0.001841  0.000095 -0.003250   \n",
      "2022-11-18 -0.001627 -0.000433  0.000766  0.003620  0.000927 -0.000169   \n",
      "\n",
      "Symbols         AMZN        BA       UNH       DEO  \n",
      "Date                                                \n",
      "2022-11-14 -0.002282 -0.001110 -0.001596 -0.000230  \n",
      "2022-11-15  0.000457  0.000519 -0.002091  0.000159  \n",
      "2022-11-16 -0.001839 -0.000758  0.001692  0.000536  \n",
      "2022-11-17 -0.002337  0.000026  0.000741  0.000006  \n",
      "2022-11-18 -0.000749  0.000321  0.002851  0.000595  \n"
     ]
    }
   ],
   "source": [
    "weighted_returns = stocks_weights * returns_df\n",
    "print(weighted_returns.tail())"
   ]
  },
  {
   "cell_type": "code",
   "execution_count": 6,
   "id": "e2c50f4b-4d1c-4be7-b5fe-2138b5171a73",
   "metadata": {},
   "outputs": [
    {
     "name": "stdout",
     "output_type": "stream",
     "text": [
      "Date\n",
      "2022-11-14   -0.008289\n",
      "2022-11-15   -0.005616\n",
      "2022-11-16   -0.004927\n",
      "2022-11-17   -0.007693\n",
      "2022-11-18    0.006102\n",
      "dtype: float64\n"
     ]
    }
   ],
   "source": [
    "portfolio_returns = weighted_returns.sum(axis=1)\n",
    "print(portfolio_returns.tail())"
   ]
  },
  {
   "cell_type": "code",
   "execution_count": 7,
   "id": "8e403d36-daed-4009-bda5-3b4a59c886fe",
   "metadata": {},
   "outputs": [
    {
     "data": {
      "image/png": "[encoded data removed]",
      "text/plain": [
       "<Figure size 432x288 with 1 Axes>"
      ]
     },
     "metadata": {
      "needs_background": "light"
     },
     "output_type": "display_data"
    }
   ],
   "source": [
    "fig = plt.figure()\n",
    "ax1 = fig.add_axes([0.1, 0.1, 0.8, 0.8])\n",
    "ax1.hist(portfolio_returns, bins=100)\n",
    "ax1.set_xlabel('Portfolio Returns')\n",
    "ax1.set_ylabel('Frequency')\n",
    "plt.title('Historical Distribution of Portfolio Return')\n",
    "plt.grid(True)\n",
    "plt.show()"
   ]
  },
  {
   "cell_type": "markdown",
   "id": "bb376270-800e-465c-92dc-04e451514a42",
   "metadata": {},
   "source": [
    "# Normal Distribution VaR"
   ]
  },
  {
   "cell_type": "code",
   "execution_count": 8,
   "id": "1163368e-7c76-46db-a8b8-c1c16e565f70",
   "metadata": {},
   "outputs": [],
   "source": [
    "mean = np.mean(portfolio_returns)\n",
    "std = np.std(portfolio_returns)"
   ]
  },
  {
   "cell_type": "code",
   "execution_count": 9,
   "id": "13ae6760-8ef0-4fe8-a659-e4c6f9ab91fd",
   "metadata": {},
   "outputs": [
    {
     "name": "stdout",
     "output_type": "stream",
     "text": [
      "Confidence Level      Value at Risk\n",
      "------------------  ---------------\n",
      "90%                      -0.0150225\n",
      "95%                      -0.0195348\n",
      "99%                      -0.0279989\n"
     ]
    }
   ],
   "source": [
    "VaR_90 = norm.ppf(1-0.9, mean, std)\n",
    "VaR_95 = norm.ppf(1-0.95, mean, std)\n",
    "VaR_99 = norm.ppf(1-0.99, mean, std)\n",
    "print(tabulate([['90%', VaR_90], ['95%', VaR_95], ['99%', VaR_99]], headers=['Confidence Level', 'Value at Risk']))"
   ]
  },
  {
   "cell_type": "markdown",
   "id": "cdad7aea-4d7d-4a4b-a5e9-868b8ab87a02",
   "metadata": {},
   "source": [
    "# CVaR"
   ]
  },
  {
   "cell_type": "code",
   "execution_count": 10,
   "id": "d41eb787-3923-4661-8e94-506e59ce3c67",
   "metadata": {},
   "outputs": [
    {
     "name": "stdout",
     "output_type": "stream",
     "text": [
      "Confidence Level      Conditional Value at Risk\n",
      "------------------  ---------------------------\n",
      "90%                                  -0.0298464\n",
      "95%                                  -0.0426122\n",
      "99%                                  -0.121646\n"
     ]
    }
   ],
   "source": [
    "tail_loss_90 = norm.expect(lambda x: x, loc = mean, scale = std, lb = VaR_90)\n",
    "CVaR_90 = -(1 / (1 - 0.90)) * tail_loss_90\n",
    "\n",
    "tail_loss_95 = norm.expect(lambda x: x, loc = mean, scale = std, lb = VaR_95)\n",
    "CVaR_95 = -(1 / (1 - 0.95)) * tail_loss_95\n",
    "\n",
    "tail_loss_99 = norm.expect(lambda x: x, loc = mean, scale = std, lb = VaR_99)\n",
    "CVaR_99 = -(1 / (1 - 0.99)) * tail_loss_99\n",
    "\n",
    "print(tabulate([['90%', CVaR_90], ['95%', CVaR_95], ['99%', CVaR_99]], headers=['Confidence Level', 'Conditional Value at Risk']))"
   ]
  },
  {
   "cell_type": "code",
   "execution_count": 11,
   "id": "f0a86849-4a5a-43fe-9e5c-fc949fc3b5ea",
   "metadata": {},
   "outputs": [
    {
     "data": {
      "image/png": "[encoded data removed]",
      "text/plain": [
       "<Figure size 432x288 with 1 Axes>"
      ]
     },
     "metadata": {
      "needs_background": "light"
     },
     "output_type": "display_data"
    }
   ],
   "source": [
    "plt.hist(norm.rvs(size = 1000000, loc = mean, scale = std), bins = 100)\n",
    "plt.axvline(x = VaR_90, c = 'r', label = 'VaR, 90% Confidence Level')\n",
    "plt.axvline(x = CVaR_90, c = 'g', label = 'CVaR, Worst 10% of Outcomes')\n",
    "plt.legend()\n",
    "plt.show()"
   ]
  },
  {
   "cell_type": "code",
   "execution_count": 12,
   "id": "683b5f53-1700-490a-8c3d-c3249acf0470",
   "metadata": {},
   "outputs": [
    {
     "data": {
      "image/png": "[encoded data removed]",
      "text/plain": [
       "<Figure size 432x288 with 1 Axes>"
      ]
     },
     "metadata": {
      "needs_background": "light"
     },
     "output_type": "display_data"
    }
   ],
   "source": [
    "plt.hist(norm.rvs(size = 1000000, loc = mean, scale = std), bins = 100)\n",
    "plt.axvline(x = VaR_95, c = 'r', label = 'VaR, 95% Confidence Level')\n",
    "plt.axvline(x = CVaR_95, c = 'g', label = 'CVaR, Worst 5% of Outcomes')\n",
    "plt.legend()\n",
    "plt.show()"
   ]
  },
  {
   "cell_type": "code",
   "execution_count": 13,
   "id": "84541c4f-78f7-42b6-80ce-96c157cc25f9",
   "metadata": {},
   "outputs": [
    {
     "data": {
      "image/png": "[encoded data removed]",
      "text/plain": [
       "<Figure size 432x288 with 1 Axes>"
      ]
     },
     "metadata": {
      "needs_background": "light"
     },
     "output_type": "display_data"
    }
   ],
   "source": [
    "plt.hist(norm.rvs(size = 1000000, loc = mean, scale = std), bins = 100)\n",
    "plt.axvline(x = VaR_99, c = 'r', label = 'VaR, 99% Confidence Level')\n",
    "plt.axvline(x = CVaR_99, c = 'g', label = 'CVaR, Worst 1% of Outcomes')\n",
    "plt.legend()\n",
    "plt.show()"
   ]
  },
  {
   "cell_type": "markdown",
   "id": "215b4726-d112-4c4a-9177-99ffc78d5c91",
   "metadata": {},
   "source": [
    "# Parametric Estimation"
   ]
  },
  {
   "cell_type": "markdown",
   "id": "84b599ff-f31e-49a4-86fb-31ebf25f32a7",
   "metadata": {},
   "source": [
    "Anderson-Darling Test"
   ]
  },
  {
   "cell_type": "code",
   "execution_count": 27,
   "id": "3553e52f-b96c-4a29-b7dc-6373aaf2dfba",
   "metadata": {},
   "outputs": [],
   "source": [
    "from scipy.stats import norm, anderson\n",
    "from scipy.stats import skewtest, skewnorm\n",
    "from scipy.stats import t"
   ]
  },
  {
   "cell_type": "code",
   "execution_count": 28,
   "id": "eb69edca-9b72-4808-8d79-c458658f3b3e",
   "metadata": {},
   "outputs": [
    {
     "name": "stdout",
     "output_type": "stream",
     "text": [
      "Anderson-Darling test result:  AndersonResult(statistic=33.38642839942622, critical_values=array([0.574, 0.654, 0.785, 0.916, 1.089]), significance_level=array([15. , 10. ,  5. ,  2.5,  1. ]))\n"
     ]
    }
   ],
   "source": [
    "print(\"Anderson-Darling test result: \", anderson(portfolio_returns))"
   ]
  },
  {
   "cell_type": "code",
   "execution_count": 29,
   "id": "1f9edd80-bb2a-4380-8f64-1022607b5dcc",
   "metadata": {},
   "outputs": [
    {
     "name": "stdout",
     "output_type": "stream",
     "text": [
      "VaR_99, Normal distribution:  0.02978770019225341\n"
     ]
    }
   ],
   "source": [
    "params = norm.fit(portfolio_returns)\n",
    "VaR_99 = norm.ppf(0.99, *params)\n",
    "print(\"VaR_99, Normal distribution: \", VaR_99)"
   ]
  },
  {
   "cell_type": "markdown",
   "id": "9c5cb6f9-fcdc-4565-9165-22639938ba82",
   "metadata": {},
   "source": [
    "Testing for Skewness"
   ]
  },
  {
   "cell_type": "code",
   "execution_count": 30,
   "id": "c736947d-3a31-4500-a73e-8312721d9c88",
   "metadata": {},
   "outputs": [
    {
     "name": "stdout",
     "output_type": "stream",
     "text": [
      "Skewtest result:  SkewtestResult(statistic=-8.576655874688104, pvalue=9.767127852069835e-18)\n"
     ]
    }
   ],
   "source": [
    "print(\"Skewtest result: \", skewtest(portfolio_returns))"
   ]
  },
  {
   "cell_type": "code",
   "execution_count": 31,
   "id": "dcb9bc59-a935-4a70-86a1-3544f780233f",
   "metadata": {},
   "outputs": [
    {
     "name": "stdout",
     "output_type": "stream",
     "text": [
      "VaR_99 from skew-normal:  0.028059930105737558\n"
     ]
    }
   ],
   "source": [
    "params = skewnorm.fit(portfolio_returns)\n",
    "VaR_99 = skewnorm.ppf(0.99, *params)\n",
    "print(\"VaR_99 from skew-normal: \", VaR_99)"
   ]
  },
  {
   "cell_type": "markdown",
   "id": "27b560c8-f719-4458-9e13-c9b3c91c978a",
   "metadata": {},
   "source": [
    "Student-t Distribution"
   ]
  },
  {
   "cell_type": "code",
   "execution_count": 26,
   "id": "5cb252b1-295f-43f9-a359-98eda58d89b6",
   "metadata": {},
   "outputs": [
    {
     "name": "stdout",
     "output_type": "stream",
     "text": [
      "VaR_99, Student-t distribution:  0.03705474828369204\n"
     ]
    }
   ],
   "source": [
    "params = t.fit(portfolio_returns)\n",
    "VaR_99 = t.ppf(0.99, *params)\n",
    "print(\"VaR_99, Student-t distribution: \", VaR_99)"
   ]
  },
  {
   "cell_type": "code",
   "execution_count": null,
   "id": "881465b9-12a4-43a3-bc54-29ba844fddad",
   "metadata": {},
   "outputs": [],
   "source": []
  }
 ],
 "metadata": {
  "kernelspec": {
   "display_name": "Python 3 (ipykernel)",
   "language": "python",
   "name": "python3"
  },
  "language_info": {
   "codemirror_mode": {
    "name": "ipython",
    "version": 3
   },
   "file_extension": ".py",
   "mimetype": "text/x-python",
   "name": "python",
   "nbconvert_exporter": "python",
   "pygments_lexer": "ipython3",
   "version": "3.9.12"
  }
 },
 "nbformat": 4,
 "nbformat_minor": 5
}
